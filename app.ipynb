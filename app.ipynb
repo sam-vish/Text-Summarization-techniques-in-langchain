{
 "cells": [
  {
   "cell_type": "code",
   "execution_count": 1,
   "source": [
    "import os\n",
    "from dotenv import load_dotenv\n",
    "\n",
    "openai_api_key = os.environ['OPENAI_API_KEY']"
   ],
   "outputs": [],
   "metadata": {}
  },
  {
   "cell_type": "code",
   "execution_count": 2,
   "source": [
    "from langchain.chat_models import ChatOpenAI\n",
    "from langchain.schema import (\n",
    "    AIMessage,\n",
    "    SystemMessage,\n",
    "    HumanMessage,\n",
    ")"
   ],
   "outputs": [],
   "metadata": {}
  },
  {
   "cell_type": "code",
   "execution_count": 3,
   "source": [
    "speech = \"\"\"\n",
    "Ladies and gentlemen,\n",
    "\n",
    "In our pursuit of knowledge, let us never forget compassion and empathy. Embracing diversity, we find strength. As challenges arise, so does our resilience. Let us shape history with courage and determination, making the world just, equitable, and compassionate for all.\n",
    "\n",
    "Thank you.\n",
    "\"\"\""
   ],
   "outputs": [],
   "metadata": {}
  },
  {
   "cell_type": "code",
   "execution_count": 6,
   "source": [
    "chat_messages = [\n",
    "    SystemMessage(content=\"You are an expert assistant with the expertise in summarizing any speech\"),\n",
    "    HumanMessage(content=f\"Please provise a summary of the {speech}\"),\n",
    "]\n",
    "llm = ChatOpenAI(model_name=\"gpt-3.5-turbo\")"
   ],
   "outputs": [],
   "metadata": {}
  },
  {
   "cell_type": "code",
   "execution_count": 10,
   "source": [
    "print(llm(chat_messages).content)"
   ],
   "outputs": [
    {
     "output_type": "stream",
     "name": "stdout",
     "text": [
      "The speaker emphasizes the importance of combining knowledge with compassion and empathy. They emphasize the strength that comes from embracing diversity and the resilience needed to face challenges. The speaker urges the audience to shape history with courage and determination, creating a world that is just, equitable, and compassionate for everyone.\n"
     ]
    }
   ],
   "metadata": {}
  },
  {
   "cell_type": "code",
   "execution_count": 11,
   "source": [
    "from langchain.chains import LLMChain\n",
    "from langchain import PromptTemplate\n",
    "\n",
    "generic_template = '''\n",
    "Write a summary of the following speech:\n",
    "Speech: `{speech}`\n",
    "Translate the precise summary to {language}\n",
    "'''\n",
    "prompt = PromptTemplate(\n",
    "    input_variables=['speech', 'language'],\n",
    "    template=generic_template,\n",
    ")"
   ],
   "outputs": [],
   "metadata": {}
  },
  {
   "cell_type": "code",
   "execution_count": 12,
   "source": [
    "complete_prompt = prompt.format(speech=speech, language=\"Hindi\")"
   ],
   "outputs": [],
   "metadata": {}
  },
  {
   "cell_type": "code",
   "execution_count": 16,
   "source": [
    "llm_chain = LLMChain(llm=llm, prompt=prompt)\n",
    "summary = llm_chain.run({\"speech\": speech, \"language\": \"Hindi\"})"
   ],
   "outputs": [],
   "metadata": {}
  },
  {
   "cell_type": "code",
   "execution_count": 17,
   "source": [
    "print(summary)"
   ],
   "outputs": [
    {
     "output_type": "stream",
     "name": "stdout",
     "text": [
      "महिलाएं और सज्जन,\n",
      "\n",
      "ज्ञान की प्राप्ति के दौरान, हमेशा दया और सहानुभूति को याद रखें। विविधता को गले लगाने के साथ हम शक्ति पा रहे हैं। जैसे-जैसे चुनौतियाँ आती हैं, वैसे ही हमारी दिलचस्पी भी बढ़ती है। हम साहस और निर्धारण के साथ इतिहास को सृजन करेंगे, सबके लिए न्यायसंगत, समान और सहानुभूतिपूर्ण विश्व का निर्माण करेंगे।\n",
      "\n",
      "धन्यवाद।\n"
     ]
    }
   ],
   "metadata": {}
  },
  {
   "cell_type": "code",
   "execution_count": 18,
   "source": [
    "# StuffDocumentChain Text Summarization\n",
    "from PyPDF2 import PdfReader"
   ],
   "outputs": [],
   "metadata": {}
  },
  {
   "cell_type": "code",
   "execution_count": 19,
   "source": [
    "pdfreader = PdfReader(\"einstein.pdf\")"
   ],
   "outputs": [],
   "metadata": {}
  },
  {
   "cell_type": "code",
   "execution_count": 20,
   "source": [
    "from typing_extensions import Concatenate\n",
    "# Read text from pdf\n",
    "text = \"\"\n",
    "for i, page in enumerate(pdfreader.pages):\n",
    "    content = page.extract_text()\n",
    "    if content:\n",
    "        text+=content"
   ],
   "outputs": [],
   "metadata": {}
  },
  {
   "cell_type": "code",
   "execution_count": 21,
   "source": [
    "print(text)"
   ],
   "outputs": [
    {
     "output_type": "stream",
     "name": "stdout",
     "text": [
      "Ladies and gentlemen,  \n",
      " \n",
      "It is with a humble heart and a fervent spirit that I stand before you today. In the vast \n",
      "expanse of time and space, we find ourselves, sentient beings, pondering the mysteries of \n",
      "the universe. Each passing moment unveils new wonders, new challenges, and n ew \n",
      "opportunities for exploration.  \n",
      " \n",
      "We live in an era of unprecedented scientific advancement, where the mysteries of nature \n",
      "are unraveled one by one. Yet, amidst our triumphs, we must remember that knowledge alone \n",
      "is not enough. It is the wisdom to harness that knowledge for the betterment of humanity \n",
      "that truly defines our progress.  \n",
      " \n",
      "In our pursuit of knowledge, let us never forget the essence of compassion and empathy. \n",
      "For it is through understanding and empathy that we bridge the divides that separate us. \n",
      "In the vast tapestry of humanity, each thread is unique, each voice is valuable . It is \n",
      "only by embracing our diversity that we can truly appreciate the beauty of existence.  \n",
      " \n",
      "The challenges that confront us are daunting, from the fragility of our environment to \n",
      "the complexities of our societies. Yet, I am reminded of the words of the great poet \n",
      "Rainer Maria Rilke, who said, \"Let everything happen to you: beauty and terror. Just  keep \n",
      "going. No feeling is final.\"  \n",
      " \n",
      "It is in our moments of greatest adversity that our resilience shines brightest. It is in \n",
      "our collective resolve that we find the strength to overcome even the most formidable \n",
      "obstacles. Let us never lose sight of our capacity to effect change, to shape th e course \n",
      "of history with our actions, both big and small.  \n",
      " \n",
      "As we stand on the precipice of a new dawn, let us embrace the challenges that lie ahead \n",
      "with courage and determination. Let us strive not only to understand the universe, but to \n",
      "make it a more just, equitable, and compassionate place for all who inhabit i t. \n",
      " \n",
      "In closing, I leave you with the words of another great thinker, Mahatma Gandhi, who \n",
      "said, \"Be the change that you wish to see in the world.\" May we all be agents of positive \n",
      "change, lighting the way for future generations to follow.  \n",
      " \n",
      "Thank you.  \n",
      " \n"
     ]
    }
   ],
   "metadata": {}
  },
  {
   "cell_type": "code",
   "execution_count": 22,
   "source": [
    "from langchain.docstore.document import Document"
   ],
   "outputs": [],
   "metadata": {}
  },
  {
   "cell_type": "code",
   "execution_count": 23,
   "source": [
    "from langchain.docstore.document import Document\n",
    "docs = [Document(page_content=text)]\n",
    "docs"
   ],
   "outputs": [
    {
     "output_type": "execute_result",
     "data": {
      "text/plain": [
       "[Document(page_content='Ladies and gentlemen,  \\n \\nIt is with a humble heart and a fervent spirit that I stand before you today. In the vast \\nexpanse of time and space, we find ourselves, sentient beings, pondering the mysteries of \\nthe universe. Each passing moment unveils new wonders, new challenges, and n ew \\nopportunities for exploration.  \\n \\nWe live in an era of unprecedented scientific advancement, where the mysteries of nature \\nare unraveled one by one. Yet, amidst our triumphs, we must remember that knowledge alone \\nis not enough. It is the wisdom to harness that knowledge for the betterment of humanity \\nthat truly defines our progress.  \\n \\nIn our pursuit of knowledge, let us never forget the essence of compassion and empathy. \\nFor it is through understanding and empathy that we bridge the divides that separate us. \\nIn the vast tapestry of humanity, each thread is unique, each voice is valuable . It is \\nonly by embracing our diversity that we can truly appreciate the beauty of existence.  \\n \\nThe challenges that confront us are daunting, from the fragility of our environment to \\nthe complexities of our societies. Yet, I am reminded of the words of the great poet \\nRainer Maria Rilke, who said, \"Let everything happen to you: beauty and terror. Just  keep \\ngoing. No feeling is final.\"  \\n \\nIt is in our moments of greatest adversity that our resilience shines brightest. It is in \\nour collective resolve that we find the strength to overcome even the most formidable \\nobstacles. Let us never lose sight of our capacity to effect change, to shape th e course \\nof history with our actions, both big and small.  \\n \\nAs we stand on the precipice of a new dawn, let us embrace the challenges that lie ahead \\nwith courage and determination. Let us strive not only to understand the universe, but to \\nmake it a more just, equitable, and compassionate place for all who inhabit i t. \\n \\nIn closing, I leave you with the words of another great thinker, Mahatma Gandhi, who \\nsaid, \"Be the change that you wish to see in the world.\" May we all be agents of positive \\nchange, lighting the way for future generations to follow.  \\n \\nThank you.  \\n ')]"
      ]
     },
     "metadata": {},
     "execution_count": 23
    }
   ],
   "metadata": {}
  },
  {
   "cell_type": "code",
   "execution_count": 24,
   "source": [
    "llm = ChatOpenAI(temperature = 0,model_name=\"gpt-3.5-turbo\")"
   ],
   "outputs": [],
   "metadata": {}
  },
  {
   "cell_type": "code",
   "execution_count": 25,
   "source": [
    "from langchain import PromptTemplate\n",
    "from langchain.chat_models import ChatOpenAI\n",
    "from langchain.chains.summarize import load_summarize_chain\n",
    "from langchain.docstore.document import Document"
   ],
   "outputs": [],
   "metadata": {}
  },
  {
   "cell_type": "code",
   "execution_count": 30,
   "source": [
    "template = \"\"\"\n",
    "Write a concise and short summary of the following speech\n",
    "Speech : `{text}`.\n",
    "\"\"\"\n",
    "prompt = PromptTemplate(\n",
    "    input_variables=[\"text\"],\n",
    "    template=template\n",
    ")"
   ],
   "outputs": [],
   "metadata": {}
  },
  {
   "cell_type": "code",
   "execution_count": 31,
   "source": [
    "chain = load_summarize_chain(\n",
    "    llm,\n",
    "    chain_type=\"stuff\",\n",
    "    prompt= prompt,\n",
    "    verbose=False\n",
    ")\n",
    "output_summary = chain.run(docs)"
   ],
   "outputs": [],
   "metadata": {}
  },
  {
   "cell_type": "code",
   "execution_count": 32,
   "source": [
    "print(output_summary)"
   ],
   "outputs": [
    {
     "output_type": "stream",
     "name": "stdout",
     "text": [
      "The speaker acknowledges the advancements in science and the importance of wisdom in utilizing that knowledge for the betterment of humanity. They emphasize the need for compassion and empathy to bridge divides and appreciate diversity. The challenges we face are acknowledged, but the speaker encourages resilience and the belief in our capacity to effect change. They urge us to embrace the future with courage and determination, striving for a more just and compassionate world. The speech concludes with a call to be agents of positive change, quoting Mahatma Gandhi.\n"
     ]
    }
   ],
   "metadata": {}
  },
  {
   "cell_type": "code",
   "execution_count": 34,
   "source": [
    "from langchain import PromptTemplate\n",
    "from langchain.chat_models import ChatOpenAI\n",
    "from langchain.chains.summarize import load_summarize_chain\n",
    "from langchain.text_splitter import RecursiveCharacterTextSplitter"
   ],
   "outputs": [],
   "metadata": {}
  },
  {
   "cell_type": "code",
   "execution_count": 35,
   "source": [
    "pdfreader = PdfReader(\"einstein.pdf\")\n",
    "from typing_extensions import Concatenate\n",
    "# Read text from pdf\n",
    "text = \"\"\n",
    "for i, page in enumerate(pdfreader.pages):\n",
    "    content = page.extract_text()\n",
    "    if content:\n",
    "        text+=content\n",
    "        \n",
    "llm = ChatOpenAI(temperature = 0,model_name=\"gpt-3.5-turbo\")"
   ],
   "outputs": [],
   "metadata": {}
  },
  {
   "cell_type": "code",
   "execution_count": 43,
   "source": [
    "# Splitting the text\n",
    "text_splitter = RecursiveCharacterTextSplitter(chunk_size=1000, chunk_overlap=20)\n",
    "chunks = text_splitter.create_documents({text})"
   ],
   "outputs": [],
   "metadata": {}
  },
  {
   "cell_type": "code",
   "execution_count": 44,
   "source": [
    "print(chunks)"
   ],
   "outputs": [
    {
     "output_type": "stream",
     "name": "stdout",
     "text": [
      "[Document(page_content='Ladies and gentlemen,  \\n \\nIt is with a humble heart and a fervent spirit that I stand before you today. In the vast \\nexpanse of time and space, we find ourselves, sentient beings, pondering the mysteries of \\nthe universe. Each passing moment unveils new wonders, new challenges, and n ew \\nopportunities for exploration.  \\n \\nWe live in an era of unprecedented scientific advancement, where the mysteries of nature \\nare unraveled one by one. Yet, amidst our triumphs, we must remember that knowledge alone \\nis not enough. It is the wisdom to harness that knowledge for the betterment of humanity \\nthat truly defines our progress.  \\n \\nIn our pursuit of knowledge, let us never forget the essence of compassion and empathy. \\nFor it is through understanding and empathy that we bridge the divides that separate us. \\nIn the vast tapestry of humanity, each thread is unique, each voice is valuable . It is \\nonly by embracing our diversity that we can truly appreciate the beauty of existence.'), Document(page_content='The challenges that confront us are daunting, from the fragility of our environment to \\nthe complexities of our societies. Yet, I am reminded of the words of the great poet \\nRainer Maria Rilke, who said, \"Let everything happen to you: beauty and terror. Just  keep \\ngoing. No feeling is final.\"  \\n \\nIt is in our moments of greatest adversity that our resilience shines brightest. It is in \\nour collective resolve that we find the strength to overcome even the most formidable \\nobstacles. Let us never lose sight of our capacity to effect change, to shape th e course \\nof history with our actions, both big and small.  \\n \\nAs we stand on the precipice of a new dawn, let us embrace the challenges that lie ahead \\nwith courage and determination. Let us strive not only to understand the universe, but to \\nmake it a more just, equitable, and compassionate place for all who inhabit i t. \\n \\nIn closing, I leave you with the words of another great thinker, Mahatma Gandhi, who'), Document(page_content='said, \"Be the change that you wish to see in the world.\" May we all be agents of positive \\nchange, lighting the way for future generations to follow.  \\n \\nThank you.')]\n"
     ]
    }
   ],
   "metadata": {}
  },
  {
   "cell_type": "code",
   "execution_count": 45,
   "source": [
    "len(chunks)"
   ],
   "outputs": [
    {
     "output_type": "execute_result",
     "data": {
      "text/plain": [
       "3"
      ]
     },
     "metadata": {},
     "execution_count": 45
    }
   ],
   "metadata": {}
  },
  {
   "cell_type": "code",
   "execution_count": 46,
   "source": [
    "chain = load_summarize_chain(\n",
    "    llm,\n",
    "    chain_type=\"map_reduce\",\n",
    "    verbose=False\n",
    ")"
   ],
   "outputs": [],
   "metadata": {}
  },
  {
   "cell_type": "code",
   "execution_count": 48,
   "source": [
    "summary = chain.run(chunks)"
   ],
   "outputs": [],
   "metadata": {}
  },
  {
   "cell_type": "code",
   "execution_count": 49,
   "source": [
    "print(summary)"
   ],
   "outputs": [
    {
     "output_type": "stream",
     "name": "stdout",
     "text": [
      "The speaker acknowledges the mysteries of the universe and the advancements in science, emphasizing the importance of using knowledge for the betterment of humanity. They highlight the significance of compassion and empathy in bridging divides and appreciating diversity. The challenges we face are difficult, but our resilience and collective resolve can help us overcome obstacles and effect change. The quote encourages individuals to be the change they want to see in the world and hopes that everyone can be positive agents of change for future generations.\n"
     ]
    }
   ],
   "metadata": {}
  },
  {
   "cell_type": "code",
   "execution_count": 50,
   "source": [
    "##  Map reduce with custom prompt\n",
    "chunks_prompt = \"\"\"\n",
    "Please summarize the below speech:\n",
    "text: `{text}`\n",
    "summary:\n",
    "\"\"\"\n",
    "map_prompt_template = PromptTemplate(\n",
    "    input_variables=[\"text\"],\n",
    "    template=chunks_prompt\n",
    ")"
   ],
   "outputs": [],
   "metadata": {}
  },
  {
   "cell_type": "code",
   "execution_count": 51,
   "source": [
    "final_combine_prompt = '''\n",
    "Provide a final summary of the entire speech with these points.\n",
    "Add a generic motivational title,\n",
    "Start the precise summary with an introduction and provide the \n",
    "summary in number points for the speech.\n",
    "Speech: `{text}`\n",
    "'''\n",
    "final_combine_prompt_template = PromptTemplate(\n",
    "    input_variables=[\"text\"],\n",
    "    template=final_combine_prompt\n",
    ")"
   ],
   "outputs": [],
   "metadata": {}
  },
  {
   "cell_type": "code",
   "execution_count": 52,
   "source": [
    "summary_chain = load_summarize_chain(\n",
    "    llm=llm,\n",
    "    chain_type=\"map_reduce\",\n",
    "    map_prompt=map_prompt_template,\n",
    "    combine_prompt=final_combine_prompt_template,\n",
    "    verbose=False\n",
    ")\n",
    "output = summary_chain.run(chunks)"
   ],
   "outputs": [],
   "metadata": {}
  },
  {
   "cell_type": "code",
   "execution_count": 53,
   "source": [
    "print(output)"
   ],
   "outputs": [
    {
     "output_type": "stream",
     "name": "stdout",
     "text": [
      "Title: \"Embracing Challenges: Inspiring Change for a Better World\"\n",
      "\n",
      "Introduction:\n",
      "In a heartfelt and enthusiastic address, the speaker expresses gratitude for the opportunity to address the audience. They emphasize the constant discoveries and challenges in the universe and stress the importance of using knowledge for the benefit of humanity. Additionally, they highlight the significance of compassion and empathy in bridging divides and appreciating the diversity of humanity.\n",
      "\n",
      "Summary:\n",
      "\n",
      "1. Acknowledging Daunting Challenges: The speaker acknowledges the daunting challenges faced by our environment and society. However, they draw inspiration from the words of Rainer Maria Rilke, emphasizing the importance of perseverance and not letting any feeling be final.\n",
      "\n",
      "2. Resilience in Adversity: The speaker highlights the resilience that shines in moments of adversity and the collective strength to overcome obstacles. They urge us to never forget our capacity to effect change and shape history through our actions.\n",
      "\n",
      "3. Embracing Challenges with Courage and Determination: The speaker encourages embracing the challenges ahead with courage and determination, striving to make the world a more just and compassionate place. They emphasize the importance of being the change we want to see in the world.\n",
      "\n",
      "4. Inspiring Future Generations: The speaker hopes to inspire future generations to embrace challenges and effect positive change. They believe that by leading by example, we can inspire others to follow suit and create a better world.\n",
      "\n",
      "Conclusion:\n",
      "The speech concludes with a quote from Mahatma Gandhi, emphasizing the importance of being the change we wish to see in the world. The speaker expresses gratitude for the audience's attention and their hope that their words will inspire others to take action.\n"
     ]
    }
   ],
   "metadata": {}
  },
  {
   "cell_type": "code",
   "execution_count": 54,
   "source": [
    "chain = load_summarize_chain(\n",
    "    llm=llm,\n",
    "    chain_type=\"refine\",\n",
    "    verbose=True\n",
    ")\n",
    "output_summary = chain.run(chunks)"
   ],
   "outputs": [
    {
     "output_type": "stream",
     "name": "stdout",
     "text": [
      "\n",
      "\n",
      "\u001b[1m> Entering new RefineDocumentsChain chain...\u001b[0m\n",
      "\n",
      "\n",
      "\u001b[1m> Entering new LLMChain chain...\u001b[0m\n",
      "Prompt after formatting:\n",
      "\u001b[32;1m\u001b[1;3mWrite a concise summary of the following:\n",
      "\n",
      "\n",
      "\"Ladies and gentlemen,  \n",
      " \n",
      "It is with a humble heart and a fervent spirit that I stand before you today. In the vast \n",
      "expanse of time and space, we find ourselves, sentient beings, pondering the mysteries of \n",
      "the universe. Each passing moment unveils new wonders, new challenges, and n ew \n",
      "opportunities for exploration.  \n",
      " \n",
      "We live in an era of unprecedented scientific advancement, where the mysteries of nature \n",
      "are unraveled one by one. Yet, amidst our triumphs, we must remember that knowledge alone \n",
      "is not enough. It is the wisdom to harness that knowledge for the betterment of humanity \n",
      "that truly defines our progress.  \n",
      " \n",
      "In our pursuit of knowledge, let us never forget the essence of compassion and empathy. \n",
      "For it is through understanding and empathy that we bridge the divides that separate us. \n",
      "In the vast tapestry of humanity, each thread is unique, each voice is valuable . It is \n",
      "only by embracing our diversity that we can truly appreciate the beauty of existence.\"\n",
      "\n",
      "\n",
      "CONCISE SUMMARY:\u001b[0m\n",
      "\n",
      "\u001b[1m> Finished chain.\u001b[0m\n",
      "\n",
      "\n",
      "\u001b[1m> Entering new LLMChain chain...\u001b[0m\n",
      "Prompt after formatting:\n",
      "\u001b[32;1m\u001b[1;3mYour job is to produce a final summary.\n",
      "We have provided an existing summary up to a certain point: The speaker acknowledges the mysteries of the universe and the advancements in science, but emphasizes the importance of using knowledge for the betterment of humanity. They also highlight the significance of compassion and empathy in bridging divides and appreciating the diversity of humanity.\n",
      "We have the opportunity to refine the existing summary (only if needed) with some more context below.\n",
      "------------\n",
      "The challenges that confront us are daunting, from the fragility of our environment to \n",
      "the complexities of our societies. Yet, I am reminded of the words of the great poet \n",
      "Rainer Maria Rilke, who said, \"Let everything happen to you: beauty and terror. Just  keep \n",
      "going. No feeling is final.\"  \n",
      " \n",
      "It is in our moments of greatest adversity that our resilience shines brightest. It is in \n",
      "our collective resolve that we find the strength to overcome even the most formidable \n",
      "obstacles. Let us never lose sight of our capacity to effect change, to shape th e course \n",
      "of history with our actions, both big and small.  \n",
      " \n",
      "As we stand on the precipice of a new dawn, let us embrace the challenges that lie ahead \n",
      "with courage and determination. Let us strive not only to understand the universe, but to \n",
      "make it a more just, equitable, and compassionate place for all who inhabit i t. \n",
      " \n",
      "In closing, I leave you with the words of another great thinker, Mahatma Gandhi, who\n",
      "------------\n",
      "Given the new context, refine the original summary.\n",
      "If the context isn't useful, return the original summary.\u001b[0m\n",
      "\n",
      "\u001b[1m> Finished chain.\u001b[0m\n",
      "\n",
      "\n",
      "\u001b[1m> Entering new LLMChain chain...\u001b[0m\n",
      "Prompt after formatting:\n",
      "\u001b[32;1m\u001b[1;3mYour job is to produce a final summary.\n",
      "We have provided an existing summary up to a certain point: The speaker acknowledges the challenges and complexities that confront humanity, but emphasizes the importance of resilience and collective resolve in overcoming obstacles. They urge us to embrace the future with courage and determination, striving not only to understand the universe but also to make it a more just, equitable, and compassionate place for all. The speaker concludes by invoking the words of Mahatma Gandhi, highlighting the significance of his teachings in guiding our actions.\n",
      "We have the opportunity to refine the existing summary (only if needed) with some more context below.\n",
      "------------\n",
      "said, \"Be the change that you wish to see in the world.\" May we all be agents of positive \n",
      "change, lighting the way for future generations to follow.  \n",
      " \n",
      "Thank you.\n",
      "------------\n",
      "Given the new context, refine the original summary.\n",
      "If the context isn't useful, return the original summary.\u001b[0m\n",
      "\n",
      "\u001b[1m> Finished chain.\u001b[0m\n",
      "\n",
      "\u001b[1m> Finished chain.\u001b[0m\n"
     ]
    }
   ],
   "metadata": {}
  },
  {
   "cell_type": "code",
   "execution_count": 55,
   "source": [
    "print(output_summary)"
   ],
   "outputs": [
    {
     "output_type": "stream",
     "name": "stdout",
     "text": [
      "The speaker acknowledges the challenges and complexities that confront humanity, but emphasizes the importance of resilience and collective resolve in overcoming obstacles. They urge us to embrace the future with courage and determination, striving not only to understand the universe but also to make it a more just, equitable, and compassionate place for all. The speaker concludes by invoking the words of Mahatma Gandhi, highlighting the significance of his teachings in guiding our actions. They encourage us to be the change we wish to see in the world and to be agents of positive change, lighting the way for future generations to follow.\n"
     ]
    }
   ],
   "metadata": {}
  }
 ],
 "nbformat": 4,
 "nbformat_minor": 2,
 "metadata": {
  "language_info": {
   "codemirror_mode": {
    "name": "ipython",
    "version": 3
   },
   "file_extension": ".py",
   "mimetype": "text/x-python",
   "name": "python",
   "nbconvert_exporter": "python",
   "pygments_lexer": "ipython3",
   "version": 3
  }
 }
}